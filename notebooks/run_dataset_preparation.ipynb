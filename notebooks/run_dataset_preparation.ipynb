{
 "cells": [
  {
   "cell_type": "markdown",
   "metadata": {},
   "source": [
    "# Dataset Preparation for Deep Learning Models\n",
    "1. RAW data (.csv) to Preprocessed data (.csv)  \n",
    "2. Preprocessed data (.csv) to extracted time window files (.npz)  \n",
    "    * 2a. save labelled data\n",
    "    * 2b. save unlabelled data"
   ]
  },
  {
   "cell_type": "code",
   "execution_count": null,
   "metadata": {},
   "outputs": [],
   "source": [
    "import os\n",
    "import glob\n",
    "import pandas as pd\n",
    "from IPython.display import display\n",
    "\n",
    "import sys\n",
    "sys.path.append(\"../\") # Set parent directory to sys.path\n",
    "sys.dont_write_bytecode = True\n",
    "%load_ext autoreload\n",
    "%autoreload 2\n",
    "from src.data_preprocess_logbot import (\n",
    "    get_raw_date_information,\n",
    "    read_raw_data_and_refine_timestamp,\n",
    "    divide_df_if_timestamp_gap_detected,\n",
    "    run_resampling_and_concat_df,\n",
    "    preprocess_sensor_data,\n",
    "    save_preprocessed_data,\n",
    "    extract_sliding_windows,\n",
    "    extract_sliding_windows_v2,\n",
    "    save_labelled_windows_as_npz,\n",
    "    get_shuffled_list,\n",
    "    save_blocks_of_windows_as_npz,\n",
    ")\n",
    "from src import utils\n",
    "(\n",
    "    plot_parameters, okabe_ito_color_list, tol_bright_color_list\n",
    ") = utils.setup_plot(show_color_palette=False)"
   ]
  },
  {
   "cell_type": "code",
   "execution_count": null,
   "metadata": {},
   "outputs": [],
   "source": [
    "dataset_dir = f\"/home/bob/protein/dl-wabc/data/datasets/logbot_data\""
   ]
  },
  {
   "cell_type": "code",
   "execution_count": null,
   "metadata": {},
   "outputs": [],
   "source": [
    "debug_test_mode = True # Do not save data\n",
    "# debug_test_mode = False # Save data"
   ]
  },
  {
   "cell_type": "markdown",
   "metadata": {
    "tags": []
   },
   "source": [
    "## 1. Raw Data to Preprocessed Files"
   ]
  },
  {
   "cell_type": "code",
   "execution_count": null,
   "metadata": {},
   "outputs": [],
   "source": [
    "# species = \"omizunagidori\"\n",
    "species = \"umineko\""
   ]
  },
  {
   "cell_type": "code",
   "execution_count": null,
   "metadata": {},
   "outputs": [],
   "source": [
    "output_dir_path = f\"{dataset_dir}/preprocessed_data/\"\n",
    "print(\"output directory:\", output_dir_path)\n",
    "print(\" \")\n",
    "\n",
    "path_target = f\"{dataset_dir}/raw_data/{species}/**.csv\"\n",
    "raw_data_path_list = sorted(glob.glob(path_target))\n",
    "print(f\"N of raw data csv files: {len(raw_data_path_list)}\", )\n",
    "for i, raw_data_path in enumerate(raw_data_path_list):\n",
    "    print(f\"{i:0=2}: {os.path.basename(raw_data_path)}\")\n",
    "    \n",
    "animal_id_path = f\"{dataset_dir}/id_files/v1.0.0/animal_id.csv\"\n",
    "print(\"animal_id_path:\", animal_id_path)\n",
    "df_animal_id = pd.read_csv(animal_id_path)\n",
    "display(df_animal_id.head(5))"
   ]
  },
  {
   "cell_type": "code",
   "execution_count": null,
   "metadata": {
    "tags": []
   },
   "outputs": [],
   "source": [
    "for raw_data_path in raw_data_path_list:\n",
    "    (\n",
    "        species, \n",
    "        year, \n",
    "        animal_tag, \n",
    "        animal_id,\n",
    "        acc_sampling_rate, \n",
    "        correct_timestamp, \n",
    "        back_mount\n",
    "    ) = get_raw_date_information(raw_data_path, \n",
    "                                 animal_id_path)\n",
    "    df = read_raw_data_and_refine_timestamp(raw_data_path, \n",
    "                                            correct_timestamp)\n",
    "    df_list = divide_df_if_timestamp_gap_detected(df, \n",
    "                                                  acc_sampling_rate, \n",
    "                                                  gap_min_limit=5) \n",
    "    # Note: this will be 25*5 = 125 (120 + 5) min gap in divide_df_if_timestamp_gap_detected\n",
    "    \n",
    "    df = run_resampling_and_concat_df(df_list, \n",
    "                                      acc_sampling_rate, \n",
    "                                      remove_sec=3, \n",
    "                                      check_df=False)\n",
    "\n",
    "    df = preprocess_sensor_data(df, \n",
    "                                clipping=True, \n",
    "                                clipping_threshold=8, \n",
    "                                method=\"none\", \n",
    "                                check_df=False)\n",
    "    \n",
    "    if debug_test_mode == True:\n",
    "        print(f\"| debug mode -> do not save data |\")\n",
    "    else:\n",
    "        save_preprocessed_data(df, \n",
    "                               output_dir_path, \n",
    "                               species, \n",
    "                               animal_id)\n",
    "        \n",
    "print(f\"-----------------------------------\")\n",
    "print(f\"raw data preprocessing completed !\")\n",
    "print(f\"-----------------------------------\")"
   ]
  },
  {
   "cell_type": "code",
   "execution_count": null,
   "metadata": {},
   "outputs": [],
   "source": []
  },
  {
   "cell_type": "markdown",
   "metadata": {},
   "source": [
    "## 2. Preprocessed CSV files to NPZ files\n",
    "extract sliding window and save as npz"
   ]
  },
  {
   "cell_type": "markdown",
   "metadata": {},
   "source": [
    "### 2a. Extract labelled data"
   ]
  },
  {
   "cell_type": "code",
   "execution_count": null,
   "metadata": {},
   "outputs": [],
   "source": [
    "# species = \"omizunagidori\"\n",
    "species = \"umineko\""
   ]
  },
  {
   "cell_type": "code",
   "execution_count": null,
   "metadata": {},
   "outputs": [],
   "source": [
    "target_path = f\"{dataset_dir}/preprocessed_data/{species}/**.csv\"\n",
    "preprocessed_data_path_list = sorted(glob.glob(target_path))\n",
    "print(\"input_dir: \")\n",
    "counter = 0\n",
    "for preprocessed_data_path in preprocessed_data_path_list:\n",
    "    print(str(counter).zfill(2), \": \", os.path.basename(preprocessed_data_path))\n",
    "    counter = counter + 1\n",
    "print(\"Length of raw_data_path_list\", len(preprocessed_data_path_list))"
   ]
  },
  {
   "cell_type": "code",
   "execution_count": null,
   "metadata": {},
   "outputs": [],
   "source": [
    "# Save labelled windows\n",
    "labelled_data_base_dir = f\"{dataset_dir}/npz_format/labelled/{species}/\"\n",
    "\n",
    "print(\"Extract sliding windows from preprocessed data (.csv) and save them as .npz files\")\n",
    "for preprocessed_data_path in preprocessed_data_path_list:\n",
    "    print(\"-----------------------------------------------------------------------\")\n",
    "    animal_id = os.path.basename(preprocessed_data_path).replace(\".csv\", \"\")\n",
    "    print(animal_id, end=\": \")\n",
    "    \n",
    "    # extract windows\n",
    "    (\n",
    "        X_list, \n",
    "        label_id_list, \n",
    "        timestamp_list, \n",
    "        labelled_flag_list, \n",
    "        labelled_X_list, \n",
    "        labelled_label_id_list, \n",
    "        labelled_timestamp_list, \n",
    "        timestamp_gap_idx_list\n",
    "    ) = extract_sliding_windows(preprocessed_data_path, \n",
    "                                sliding_window_size=50, \n",
    "                                sliding_window_step_size=25)\n",
    "    print(f\"N of extracted windows: {len(X_list)}\")\n",
    "    print(f\"N of labelled windows:  {len(labelled_X_list)}\")\n",
    "    print(f\"N of timestamp gaps:    {len(timestamp_gap_idx_list)}\")\n",
    "    \n",
    "    if len(labelled_X_list) > 0:\n",
    "        # save labelled data\n",
    "        npz_file_dir = labelled_data_base_dir + animal_id + \"/\"\n",
    "        print(\"Saving labelled windows as npz ...\")\n",
    "        \n",
    "        if debug_test_mode == True:\n",
    "            print(f\"| debug mode -> do not save data |\")\n",
    "        else:\n",
    "            save_labelled_windows_as_npz(animal_id, \n",
    "                                         npz_file_dir,\n",
    "                                         labelled_X_list, \n",
    "                                         labelled_label_id_list, \n",
    "                                         labelled_timestamp_list)\n",
    "\n",
    "print(f\"----------------------------------------\")\n",
    "print(f\"Labelled window extraction completed !\")\n",
    "print(f\"----------------------------------------\")"
   ]
  },
  {
   "cell_type": "code",
   "execution_count": null,
   "metadata": {},
   "outputs": [],
   "source": []
  },
  {
   "cell_type": "markdown",
   "metadata": {},
   "source": [
    "### 2b. Extract unlabelled data v2"
   ]
  },
  {
   "cell_type": "code",
   "execution_count": null,
   "metadata": {},
   "outputs": [],
   "source": [
    "# species = \"omizunagidori\"\n",
    "species = \"umineko\""
   ]
  },
  {
   "cell_type": "code",
   "execution_count": null,
   "metadata": {},
   "outputs": [],
   "source": [
    "target_path = f\"{dataset_dir}/preprocessed_data/{species}/**.csv\"\n",
    "preprocessed_data_path_list = sorted(glob.glob(target_path))\n",
    "print(\"input_dir: \")\n",
    "counter = 0\n",
    "for preprocessed_data_path in preprocessed_data_path_list:\n",
    "    print(str(counter).zfill(2), \": \", os.path.basename(preprocessed_data_path))\n",
    "    counter = counter + 1\n",
    "print(\"Length of raw_data_path_list\", len(preprocessed_data_path_list))"
   ]
  },
  {
   "cell_type": "code",
   "execution_count": null,
   "metadata": {},
   "outputs": [],
   "source": [
    "unlabelled_data_base_dir = f\"{dataset_dir}/npz_format/shuffled_20_v2/{species}/\"\n",
    "print(\"Extract sliding windows from preprocessed data (.csv) and save them as .npz files\")\n",
    "\n",
    "for preprocessed_data_path in preprocessed_data_path_list:\n",
    "    print(\"-----------------------------------------------------------------------\")\n",
    "    animal_id = os.path.basename(preprocessed_data_path).replace(\".csv\", \"\")\n",
    "    print(animal_id, end=\": \")\n",
    "    \n",
    "    # extract windows\n",
    "    (\n",
    "        X_list, \n",
    "        label_id_list, \n",
    "        timestamp_list, \n",
    "        labelled_flag_list, \n",
    "        labelled_X_list, \n",
    "        labelled_label_id_list, \n",
    "        labelled_timestamp_list, \n",
    "        timestamp_gap_idx_list\n",
    "    ) = extract_sliding_windows_v2(\n",
    "        preprocessed_data_path, \n",
    "        sliding_window_size=50, \n",
    "        sliding_window_step_size=25\n",
    "    )\n",
    "    print(f\"N of extracted windows: {len(X_list)}\")\n",
    "    print(f\"N of labelled windows:  {len(labelled_X_list)}\")\n",
    "    print(f\"N of timestamp gaps:    {len(timestamp_gap_idx_list)}\")\n",
    "    \n",
    "    \n",
    "    # shuffle extracted windows\n",
    "    (\n",
    "        index_list_random, \n",
    "        X_list_random, \n",
    "        label_id_list_random, \n",
    "        timestamp_list_random, \n",
    "        labelled_flag_list_random\n",
    "    ) = get_shuffled_list(X_list, \n",
    "                          label_id_list, \n",
    "                          timestamp_list, \n",
    "                          labelled_flag_list, \n",
    "                          random_seed=558)\n",
    "\n",
    "    # save all data as npz (1 file 20 windows)\n",
    "    num_windows_per_npz_file = 20\n",
    "    npz_file_dir = unlabelled_data_base_dir + animal_id + \"/\"\n",
    "    print(f\"npz_file_dir: {npz_file_dir}\")\n",
    "    print(\"Saving all windows as npz ...\")\n",
    "    if debug_test_mode == True:\n",
    "        print(f\"| debug mode -> do not save data |\")\n",
    "    else:\n",
    "        save_blocks_of_windows_as_npz(num_windows_per_npz_file, \n",
    "                                      animal_id, \n",
    "                                      npz_file_dir,\n",
    "                                      index_list_random, \n",
    "                                      X_list_random, \n",
    "                                      label_id_list_random,\n",
    "                                      timestamp_list_random, \n",
    "                                      labelled_flag_list_random)\n",
    "        \n",
    "print(f\"----------------------------------------\")\n",
    "print(f\"Unlabelled window extraction completed !\")\n",
    "print(f\"----------------------------------------\")"
   ]
  }
 ],
 "metadata": {
  "kernelspec": {
   "display_name": "Python 3 (ipykernel)",
   "language": "python",
   "name": "python3"
  },
  "language_info": {
   "codemirror_mode": {
    "name": "ipython",
    "version": 3
   },
   "file_extension": ".py",
   "mimetype": "text/x-python",
   "name": "python",
   "nbconvert_exporter": "python",
   "pygments_lexer": "ipython3",
   "version": "3.10.8"
  },
  "vscode": {
   "interpreter": {
    "hash": "589ded745cdda03dfcf00b61acccb2309b75fd69ef7f27f289b52e9bf1249f89"
   }
  }
 },
 "nbformat": 4,
 "nbformat_minor": 4
}
